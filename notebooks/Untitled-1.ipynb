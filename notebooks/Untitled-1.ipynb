{
 "cells": [
  {
   "cell_type": "code",
   "execution_count": 18,
   "metadata": {},
   "outputs": [],
   "source": [
    "# import d3rlpy\n",
    "from d3rlpy.datasets import get_d4rl\n",
    "import gym\n",
    "import matplotlib.pyplot as plt\n",
    "import numpy as np\n",
    "import os\n",
    "os.environ['D4RL_SUPPRESS_IMPORT_ERROR'] = '1'"
   ]
  },
  {
   "cell_type": "code",
   "execution_count": 19,
   "metadata": {},
   "outputs": [],
   "source": [
    "# tasks = [\"hopper-medium-v2\", \"walker2d-medium-v2\", \"halfcheetah-medium-v2\", \"ant-medium-v2\",\n",
    "#          \"hopper-medium-expert-v2\", \"walker2d-medium-expert-v2\", \"halfcheetah-medium-expert-v2\", \"ant-medium-expert-v2\",\n",
    "#          \"hopper-medium-replay-v2\", \"walker2d-medium-replay-v2\", \"halfcheetah-medium-replay-v2\", \"ant-medium-replay-v2\"]\n",
    "\n",
    "task = \"ant-medium-expert-v2\"\n"
   ]
  },
  {
   "cell_type": "code",
   "execution_count": 20,
   "metadata": {},
   "outputs": [],
   "source": [
    "def plot_hist(data, fig, axs, i, j, m):\n",
    "    axs[i, j].hist(data, bins=50)  # Adjust the number of bins as needed\n",
    "\n",
    "    # Set labels and title\n",
    "    axs[i, j].set_xlabel('Value', fontsize=10)\n",
    "    axs[i, j].set_ylabel('Frequency', fontsize=10)\n",
    "    axs[i, j].set_title(f'{tasks[m*i+j]}', fontsize=7)\n",
    "\n",
    "    axs[i, j].set_xticks(np.linspace(data.min(), data.max(), num=20))\n",
    "    axs[i, j].tick_params(axis='x', rotation=50, labelsize=6)"
   ]
  },
  {
   "cell_type": "code",
   "execution_count": 21,
   "metadata": {},
   "outputs": [
    {
     "name": "stderr",
     "output_type": "stream",
     "text": [
      "load datafile: 100%|██████████| 9/9 [07:12<00:00, 48.09s/it] \n"
     ]
    },
    {
     "ename": "",
     "evalue": "",
     "output_type": "error",
     "traceback": [
      "\u001b[1;31mCannot execute code, session has been disposed. Please try restarting the Kernel."
     ]
    },
    {
     "ename": "",
     "evalue": "",
     "output_type": "error",
     "traceback": [
      "\u001b[1;31mThe Kernel crashed while executing code in the the current cell or a previous cell. Please review the code in the cell(s) to identify a possible cause of the failure. Click <a href='https://aka.ms/vscodeJupyterKernelCrash'>here</a> for more info. View Jupyter <a href='command:jupyter.viewOutput'>log</a> for further details."
     ]
    }
   ],
   "source": [
    "l = []\n",
    "store = []\n",
    "dataset, env = get_d4rl(task)\n",
    "\n",
    "returns = []\n",
    "for episode in dataset.episodes:\n",
    "    r = 0\n",
    "    for transition in episode:\n",
    "        r += transition.reward\n",
    "    returns.append(r)\n",
    "normalized_score = env.get_normalized_score(np.array(returns)) \n",
    "l.append(normalized_score)"
   ]
  },
  {
   "cell_type": "code",
   "execution_count": null,
   "metadata": {},
   "outputs": [
    {
     "data": {
      "image/png": "[encoded data removed]",
      "text/plain": [
       "<Figure size 640x480 with 1 Axes>"
      ]
     },
     "metadata": {},
     "output_type": "display_data"
    }
   ],
   "source": [
    "n = 1\n",
    "m = 1\n",
    "plt.hist(l, bins=50)  # Adjust the number of bins as needed\n",
    "plt.title(f'{task}')\n",
    "plt.xlabel('Returns')\n",
    "plt.ylabel('Frequency')\n",
    "\n",
    "# Adjust the spacing between subplots\n",
    "plt.tight_layout()\n",
    "plt.savefig(f'../data_distribution/{task}.png')\n",
    "# Show the plot\n",
    "plt.show()"
   ]
  },
  {
   "cell_type": "code",
   "execution_count": 11,
   "metadata": {},
   "outputs": [
    {
     "data": {
      "text/plain": [
       "(array([-0.04705115, -0.11863414, -0.17765532,  0.43191629,  0.14869734,\n",
       "        -0.07399756, -0.49689009,  0.14126169, -0.06776159, -1.36704548,\n",
       "        -0.54121799, -0.83147298,  7.00335439, -3.25642884,  0.67236768,\n",
       "        -4.68528869,  4.18594812]),\n",
       " -0.34613358979276176,\n",
       " False,\n",
       " {'reward_run': -0.14159729485562794, 'reward_ctrl': -0.2045362949371338})"
      ]
     },
     "execution_count": 11,
     "metadata": {},
     "output_type": "execute_result"
    }
   ],
   "source": [
    "env = gym.make('halfcheetah-medium-v2')\n",
    "env.reset()\n",
    "env.step(env.action_space.sample())\n"
   ]
  },
  {
   "cell_type": "code",
   "execution_count": null,
   "metadata": {},
   "outputs": [],
   "source": [
    "dataset = env.get_dataset()"
   ]
  },
  {
   "cell_type": "code",
   "execution_count": 15,
   "metadata": {},
   "outputs": [
    {
     "data": {
      "text/plain": [
       "array([ 0.01983191, -0.08950131, -0.00319691, -0.03601582,  0.06619842,\n",
       "       -0.09322933,  0.06039053, -0.08753889, -0.01877608, -0.16759904,\n",
       "       -0.07047922,  0.07015167,  0.0302026 ,  0.05502646,  0.11365079,\n",
       "        0.06842492, -0.13811582], dtype=float32)"
      ]
     },
     "execution_count": 15,
     "metadata": {},
     "output_type": "execute_result"
    }
   ],
   "source": [
    "dataset['observations'][0]"
   ]
  },
  {
   "cell_type": "code",
   "execution_count": null,
   "metadata": {},
   "outputs": [
    {
     "name": "stdout",
     "output_type": "stream",
     "text": [
      "2023-04-20 18:04:14 [debug    ] RoundIterator is selected.\n",
      "2023-04-20 18:04:14 [debug    ] Building models...\n",
      "2023-04-20 18:04:14 [debug    ] Models have been built.\n",
      "2023-04-20 18:04:14 [info     ] Parameters                     params={'action_scaler': None, 'actor_encoder_factory': {'type': 'default', 'params': {'activation': 'relu', 'use_batch_norm': False, 'dropout_rate': None}}, 'actor_learning_rate': 0.0003, 'actor_optim_factory': {'optim_cls': 'Adam', 'betas': (0.9, 0.999), 'eps': 1e-08, 'weight_decay': 0, 'amsgrad': False}, 'batch_size': 256, 'critic_encoder_factory': {'type': 'default', 'params': {'activation': 'relu', 'use_batch_norm': False, 'dropout_rate': None}}, 'critic_learning_rate': 0.0003, 'critic_optim_factory': {'optim_cls': 'Adam', 'betas': (0.9, 0.999), 'eps': 1e-08, 'weight_decay': 0, 'amsgrad': False}, 'expectile': 0.7, 'gamma': 0.99, 'generated_maxlen': 100000, 'max_weight': 100.0, 'n_critics': 2, 'n_frames': 1, 'n_steps': 1, 'real_ratio': 1.0, 'reward_scaler': None, 'scaler': None, 'tau': 0.005, 'use_gpu': 0, 'value_encoder_factory': {'type': 'default', 'params': {'activation': 'relu', 'use_batch_norm': False, 'dropout_rate': None}}, 'weight_temp': 3.0, 'algorithm': 'IQL', 'observation_shape': (17,), 'action_size': 6}\n"
     ]
    },
    {
     "name": "stderr",
     "output_type": "stream",
     "text": [
      "Epoch 1/1: 100%|██████████| 3902/3902 [01:32<00:00, 42.19it/s, critic_loss=4.88, value_loss=0.174, actor_loss=3.58] "
     ]
    },
    {
     "name": "stdout",
     "output_type": "stream",
     "text": [
      "2023-04-20 18:05:47 [info     ] IQL_20230420180414: epoch=1 step=3902 epoch=1 metrics={'time_sample_batch': 0.00084804517070432, 'time_algorithm_update': 0.022207287688673246, 'critic_loss': 4.880179274615296, 'value_loss': 0.17397391806124612, 'actor_loss': 3.5777103462653175, 'time_step': 0.02343858302647734} step=3902\n"
     ]
    },
    {
     "name": "stderr",
     "output_type": "stream",
     "text": [
      "\n"
     ]
    },
    {
     "name": "stdout",
     "output_type": "stream",
     "text": [
      "221.2615735798105\n",
      "2023-04-20 18:13:07 [debug    ] RoundIterator is selected.\n",
      "2023-04-20 18:13:07 [warning  ] Skip building models since they're already built.\n",
      "2023-04-20 18:13:07 [info     ] Parameters                     params={'action_scaler': None, 'actor_encoder_factory': {'type': 'default', 'params': {'activation': 'relu', 'use_batch_norm': False, 'dropout_rate': None}}, 'actor_learning_rate': 0.0003, 'actor_optim_factory': {'optim_cls': 'Adam', 'betas': (0.9, 0.999), 'eps': 1e-08, 'weight_decay': 0, 'amsgrad': False}, 'batch_size': 256, 'critic_encoder_factory': {'type': 'default', 'params': {'activation': 'relu', 'use_batch_norm': False, 'dropout_rate': None}}, 'critic_learning_rate': 0.0003, 'critic_optim_factory': {'optim_cls': 'Adam', 'betas': (0.9, 0.999), 'eps': 1e-08, 'weight_decay': 0, 'amsgrad': False}, 'expectile': 0.7, 'gamma': 0.99, 'generated_maxlen': 100000, 'max_weight': 100.0, 'n_critics': 2, 'n_frames': 1, 'n_steps': 1, 'real_ratio': 1.0, 'reward_scaler': None, 'scaler': None, 'tau': 0.005, 'use_gpu': 0, 'value_encoder_factory': {'type': 'default', 'params': {'activation': 'relu', 'use_batch_norm': False, 'dropout_rate': None}}, 'weight_temp': 3.0, 'algorithm': 'IQL', 'observation_shape': (17,), 'action_size': 6}\n"
     ]
    },
    {
     "name": "stderr",
     "output_type": "stream",
     "text": [
      "Epoch 1/1: 100%|██████████| 3902/3902 [01:52<00:00, 34.77it/s, critic_loss=21.8, value_loss=1.52, actor_loss=-5.83] "
     ]
    },
    {
     "name": "stdout",
     "output_type": "stream",
     "text": [
      "2023-04-20 18:14:59 [info     ] IQL_20230420181307: epoch=1 step=3902 epoch=1 metrics={'time_sample_batch': 0.0009186825710709189, 'time_algorithm_update': 0.027132907810729325, 'critic_loss': 21.813480493901388, 'value_loss': 1.518800905534758, 'actor_loss': -5.837470448235559, 'time_step': 0.028449849065666256} step=3902\n"
     ]
    },
    {
     "name": "stderr",
     "output_type": "stream",
     "text": [
      "\n"
     ]
    },
    {
     "name": "stdout",
     "output_type": "stream",
     "text": [
      "363.90642638232316\n",
      "2023-04-20 18:21:20 [debug    ] RoundIterator is selected.\n",
      "2023-04-20 18:21:20 [warning  ] Skip building models since they're already built.\n",
      "2023-04-20 18:21:20 [info     ] Parameters                     params={'action_scaler': None, 'actor_encoder_factory': {'type': 'default', 'params': {'activation': 'relu', 'use_batch_norm': False, 'dropout_rate': None}}, 'actor_learning_rate': 0.0003, 'actor_optim_factory': {'optim_cls': 'Adam', 'betas': (0.9, 0.999), 'eps': 1e-08, 'weight_decay': 0, 'amsgrad': False}, 'batch_size': 256, 'critic_encoder_factory': {'type': 'default', 'params': {'activation': 'relu', 'use_batch_norm': False, 'dropout_rate': None}}, 'critic_learning_rate': 0.0003, 'critic_optim_factory': {'optim_cls': 'Adam', 'betas': (0.9, 0.999), 'eps': 1e-08, 'weight_decay': 0, 'amsgrad': False}, 'expectile': 0.7, 'gamma': 0.99, 'generated_maxlen': 100000, 'max_weight': 100.0, 'n_critics': 2, 'n_frames': 1, 'n_steps': 1, 'real_ratio': 1.0, 'reward_scaler': None, 'scaler': None, 'tau': 0.005, 'use_gpu': 0, 'value_encoder_factory': {'type': 'default', 'params': {'activation': 'relu', 'use_batch_norm': False, 'dropout_rate': None}}, 'weight_temp': 3.0, 'algorithm': 'IQL', 'observation_shape': (17,), 'action_size': 6}\n"
     ]
    },
    {
     "name": "stderr",
     "output_type": "stream",
     "text": [
      "Epoch 1/1: 100%|██████████| 3902/3902 [01:31<00:00, 42.51it/s, critic_loss=41.1, value_loss=3.78, actor_loss=-26]  "
     ]
    },
    {
     "name": "stdout",
     "output_type": "stream",
     "text": [
      "2023-04-20 18:22:52 [info     ] IQL_20230420182120: epoch=1 step=3902 epoch=1 metrics={'time_sample_batch': 0.0008911846968407878, 'time_algorithm_update': 0.021948979183198977, 'critic_loss': 41.07449303279468, 'value_loss': 3.7797223616416242, 'actor_loss': -25.991480433531507, 'time_step': 0.02325804694257352} step=3902\n"
     ]
    },
    {
     "name": "stderr",
     "output_type": "stream",
     "text": [
      "\n"
     ]
    },
    {
     "name": "stdout",
     "output_type": "stream",
     "text": [
      "2809.911006986881\n",
      "2023-04-20 18:29:08 [debug    ] RoundIterator is selected.\n",
      "2023-04-20 18:29:08 [warning  ] Skip building models since they're already built.\n",
      "2023-04-20 18:29:08 [info     ] Parameters                     params={'action_scaler': None, 'actor_encoder_factory': {'type': 'default', 'params': {'activation': 'relu', 'use_batch_norm': False, 'dropout_rate': None}}, 'actor_learning_rate': 0.0003, 'actor_optim_factory': {'optim_cls': 'Adam', 'betas': (0.9, 0.999), 'eps': 1e-08, 'weight_decay': 0, 'amsgrad': False}, 'batch_size': 256, 'critic_encoder_factory': {'type': 'default', 'params': {'activation': 'relu', 'use_batch_norm': False, 'dropout_rate': None}}, 'critic_learning_rate': 0.0003, 'critic_optim_factory': {'optim_cls': 'Adam', 'betas': (0.9, 0.999), 'eps': 1e-08, 'weight_decay': 0, 'amsgrad': False}, 'expectile': 0.7, 'gamma': 0.99, 'generated_maxlen': 100000, 'max_weight': 100.0, 'n_critics': 2, 'n_frames': 1, 'n_steps': 1, 'real_ratio': 1.0, 'reward_scaler': None, 'scaler': None, 'tau': 0.005, 'use_gpu': 0, 'value_encoder_factory': {'type': 'default', 'params': {'activation': 'relu', 'use_batch_norm': False, 'dropout_rate': None}}, 'weight_temp': 3.0, 'algorithm': 'IQL', 'observation_shape': (17,), 'action_size': 6}\n"
     ]
    },
    {
     "name": "stderr",
     "output_type": "stream",
     "text": [
      "Epoch 1/1: 100%|██████████| 3902/3902 [02:15<00:00, 28.88it/s, critic_loss=56.6, value_loss=5.99, actor_loss=-39.2]"
     ]
    },
    {
     "name": "stdout",
     "output_type": "stream",
     "text": [
      "2023-04-20 18:31:23 [info     ] IQL_20230420182908: epoch=1 step=3902 epoch=1 metrics={'time_sample_batch': 0.0010413302329184153, 'time_algorithm_update': 0.03269592466750309, 'critic_loss': 56.61422247913542, 'value_loss': 5.99190851396808, 'actor_loss': -39.1983261878279, 'time_step': 0.034205952587645826} step=3902\n"
     ]
    },
    {
     "name": "stderr",
     "output_type": "stream",
     "text": [
      "\n"
     ]
    },
    {
     "name": "stdout",
     "output_type": "stream",
     "text": [
      "3462.5612464541214\n",
      "2023-04-20 18:37:38 [debug    ] RoundIterator is selected.\n",
      "2023-04-20 18:37:38 [warning  ] Skip building models since they're already built.\n",
      "2023-04-20 18:37:38 [info     ] Parameters                     params={'action_scaler': None, 'actor_encoder_factory': {'type': 'default', 'params': {'activation': 'relu', 'use_batch_norm': False, 'dropout_rate': None}}, 'actor_learning_rate': 0.0003, 'actor_optim_factory': {'optim_cls': 'Adam', 'betas': (0.9, 0.999), 'eps': 1e-08, 'weight_decay': 0, 'amsgrad': False}, 'batch_size': 256, 'critic_encoder_factory': {'type': 'default', 'params': {'activation': 'relu', 'use_batch_norm': False, 'dropout_rate': None}}, 'critic_learning_rate': 0.0003, 'critic_optim_factory': {'optim_cls': 'Adam', 'betas': (0.9, 0.999), 'eps': 1e-08, 'weight_decay': 0, 'amsgrad': False}, 'expectile': 0.7, 'gamma': 0.99, 'generated_maxlen': 100000, 'max_weight': 100.0, 'n_critics': 2, 'n_frames': 1, 'n_steps': 1, 'real_ratio': 1.0, 'reward_scaler': None, 'scaler': None, 'tau': 0.005, 'use_gpu': 0, 'value_encoder_factory': {'type': 'default', 'params': {'activation': 'relu', 'use_batch_norm': False, 'dropout_rate': None}}, 'weight_temp': 3.0, 'algorithm': 'IQL', 'observation_shape': (17,), 'action_size': 6}\n"
     ]
    },
    {
     "name": "stderr",
     "output_type": "stream",
     "text": [
      "Epoch 1/1: 100%|██████████| 3902/3902 [01:17<00:00, 50.67it/s, critic_loss=66.2, value_loss=7.45, actor_loss=-45.8]\n"
     ]
    },
    {
     "name": "stdout",
     "output_type": "stream",
     "text": [
      "2023-04-20 18:38:55 [info     ] IQL_20230420183738: epoch=1 step=3902 epoch=1 metrics={'time_sample_batch': 0.0007978060623122019, 'time_algorithm_update': 0.018389491714739543, 'critic_loss': 66.23306202363015, 'value_loss': 7.445276265814022, 'actor_loss': -45.84274819378728, 'time_step': 0.01952893815854462} step=3902\n",
      "4469.205496312171\n",
      "2023-04-20 18:44:57 [debug    ] RoundIterator is selected.\n",
      "2023-04-20 18:44:57 [warning  ] Skip building models since they're already built.\n",
      "2023-04-20 18:44:57 [info     ] Parameters                     params={'action_scaler': None, 'actor_encoder_factory': {'type': 'default', 'params': {'activation': 'relu', 'use_batch_norm': False, 'dropout_rate': None}}, 'actor_learning_rate': 0.0003, 'actor_optim_factory': {'optim_cls': 'Adam', 'betas': (0.9, 0.999), 'eps': 1e-08, 'weight_decay': 0, 'amsgrad': False}, 'batch_size': 256, 'critic_encoder_factory': {'type': 'default', 'params': {'activation': 'relu', 'use_batch_norm': False, 'dropout_rate': None}}, 'critic_learning_rate': 0.0003, 'critic_optim_factory': {'optim_cls': 'Adam', 'betas': (0.9, 0.999), 'eps': 1e-08, 'weight_decay': 0, 'amsgrad': False}, 'expectile': 0.7, 'gamma': 0.99, 'generated_maxlen': 100000, 'max_weight': 100.0, 'n_critics': 2, 'n_frames': 1, 'n_steps': 1, 'real_ratio': 1.0, 'reward_scaler': None, 'scaler': None, 'tau': 0.005, 'use_gpu': 0, 'value_encoder_factory': {'type': 'default', 'params': {'activation': 'relu', 'use_batch_norm': False, 'dropout_rate': None}}, 'weight_temp': 3.0, 'algorithm': 'IQL', 'observation_shape': (17,), 'action_size': 6}\n"
     ]
    },
    {
     "name": "stderr",
     "output_type": "stream",
     "text": [
      "Epoch 1/1: 100%|██████████| 3902/3902 [01:23<00:00, 46.73it/s, critic_loss=71.2, value_loss=8.08, actor_loss=-49.7]"
     ]
    },
    {
     "name": "stdout",
     "output_type": "stream",
     "text": [
      "2023-04-20 18:46:21 [info     ] IQL_20230420184457: epoch=1 step=3902 epoch=1 metrics={'time_sample_batch': 0.0011268067152178758, 'time_algorithm_update': 0.01969808893042427, 'critic_loss': 71.23574936640439, 'value_loss': 8.077477444018662, 'actor_loss': -49.68228999117837, 'time_step': 0.021176685375289876} step=3902\n"
     ]
    },
    {
     "name": "stderr",
     "output_type": "stream",
     "text": [
      "\n"
     ]
    },
    {
     "name": "stdout",
     "output_type": "stream",
     "text": [
      "4473.516040615767\n",
      "2023-04-20 18:51:54 [debug    ] RoundIterator is selected.\n",
      "2023-04-20 18:51:54 [warning  ] Skip building models since they're already built.\n",
      "2023-04-20 18:51:54 [info     ] Parameters                     params={'action_scaler': None, 'actor_encoder_factory': {'type': 'default', 'params': {'activation': 'relu', 'use_batch_norm': False, 'dropout_rate': None}}, 'actor_learning_rate': 0.0003, 'actor_optim_factory': {'optim_cls': 'Adam', 'betas': (0.9, 0.999), 'eps': 1e-08, 'weight_decay': 0, 'amsgrad': False}, 'batch_size': 256, 'critic_encoder_factory': {'type': 'default', 'params': {'activation': 'relu', 'use_batch_norm': False, 'dropout_rate': None}}, 'critic_learning_rate': 0.0003, 'critic_optim_factory': {'optim_cls': 'Adam', 'betas': (0.9, 0.999), 'eps': 1e-08, 'weight_decay': 0, 'amsgrad': False}, 'expectile': 0.7, 'gamma': 0.99, 'generated_maxlen': 100000, 'max_weight': 100.0, 'n_critics': 2, 'n_frames': 1, 'n_steps': 1, 'real_ratio': 1.0, 'reward_scaler': None, 'scaler': None, 'tau': 0.005, 'use_gpu': 0, 'value_encoder_factory': {'type': 'default', 'params': {'activation': 'relu', 'use_batch_norm': False, 'dropout_rate': None}}, 'weight_temp': 3.0, 'algorithm': 'IQL', 'observation_shape': (17,), 'action_size': 6}\n"
     ]
    },
    {
     "name": "stderr",
     "output_type": "stream",
     "text": [
      "Epoch 1/1: 100%|██████████| 3902/3902 [02:10<00:00, 29.90it/s, critic_loss=71.7, value_loss=7.92, actor_loss=-51.7]"
     ]
    },
    {
     "name": "stdout",
     "output_type": "stream",
     "text": [
      "2023-04-20 18:54:04 [info     ] IQL_20230420185154: epoch=1 step=3902 epoch=1 metrics={'time_sample_batch': 0.004975493048350668, 'time_algorithm_update': 0.02760934182034585, 'critic_loss': 71.66122921621536, 'value_loss': 7.916357212834087, 'actor_loss': -51.698834112336975, 'time_step': 0.03306037031767125} step=3902\n"
     ]
    },
    {
     "name": "stderr",
     "output_type": "stream",
     "text": [
      "\n"
     ]
    },
    {
     "name": "stdout",
     "output_type": "stream",
     "text": [
      "4063.477287497267\n"
     ]
    }
   ],
   "source": [
    "N = 1\n",
    "COUNT = 2\n",
    "mean_results = []\n",
    "\n",
    "for i in range(N):\n",
    "    d3rlpy.seed(i)\n",
    "    env.seed(i)\n",
    "    online_env.seed(i)\n",
    "    iql = d3rlpy.algos.IQL(use_gpu=True)\n",
    "\n",
    "    terminate = False\n",
    "    prev_score = -np.inf\n",
    "    counter = 0\n",
    "    while(not terminate):   \n",
    "        iql.fit(dataset, n_steps=10e6, save_interval=100, save_metrics=False)\n",
    "        scorer = evaluate_on_environment(online_env, n_trials=100)\n",
    "        score = scorer(iql)\n",
    "        print(score)\n",
    "        if abs(score - prev_score) < 1000:\n",
    "            counter += 1\n",
    "            if counter == 1: #set prev score only when counter is 1 (beginning of counting)\n",
    "                prev_score = score\n",
    "        else:\n",
    "            counter = 0\n",
    "            prev_score = score #reassign prev score as counter is reset\n",
    "        if counter == COUNT:\n",
    "            terminate = True\n",
    "\n",
    "    # iql.save_model(\"./saved_models/iql_{}_{}.pt\".format(algo, i))\n",
    "    scorer = evaluate_on_environment(online_env, n_trials=100)\n",
    "    mean_results.append(scorer(iql))\n",
    "    \n",
    "with open('results.txt', 'a') as f:\n",
    "    f.write(f\"{algo}\\n\")\n",
    "    for result in mean_results:\n",
    "        f.write(f\"{result}\\n\")"
   ]
  },
  {
   "cell_type": "code",
   "execution_count": 24,
   "metadata": {},
   "outputs": [],
   "source": [
    "for i in range(2):\n",
    "    with open('results.txt', 'a') as f:\n",
    "        f.write(f\"{algo}\\n\")\n",
    "        for result in mean_results:\n",
    "            f.write(f\"{i}\\n\")\n",
    "            f.write(\"32\")"
   ]
  },
  {
   "cell_type": "code",
   "execution_count": 27,
   "metadata": {},
   "outputs": [],
   "source": [
    "f = open(\"results.txt\", \"a\")"
   ]
  },
  {
   "cell_type": "code",
   "execution_count": 28,
   "metadata": {},
   "outputs": [
    {
     "data": {
      "text/plain": [
       "1"
      ]
     },
     "execution_count": 28,
     "metadata": {},
     "output_type": "execute_result"
    }
   ],
   "source": [
    "f.write(\"3\")"
   ]
  },
  {
   "cell_type": "code",
   "execution_count": null,
   "metadata": {},
   "outputs": [],
   "source": []
  }
 ],
 "metadata": {
  "kernelspec": {
   "display_name": "base",
   "language": "python",
   "name": "python3"
  },
  "language_info": {
   "codemirror_mode": {
    "name": "ipython",
    "version": 3
   },
   "file_extension": ".py",
   "mimetype": "text/x-python",
   "name": "python",
   "nbconvert_exporter": "python",
   "pygments_lexer": "ipython3",
   "version": "3.10.12"
  },
  "orig_nbformat": 4,
  "vscode": {
   "interpreter": {
    "hash": "0e1530f14671f829ed85cf1729667aa79d0ca9afbce00f44a626e5005011623d"
   }
  }
 },
 "nbformat": 4,
 "nbformat_minor": 2
}
