{
 "cells": [
  {
   "cell_type": "code",
   "execution_count": 2,
   "metadata": {},
   "outputs": [
    {
     "name": "stderr",
     "output_type": "stream",
     "text": [
      "/home/raunakk/miniconda3/envs/msc_project/lib/python3.10/site-packages/tqdm/auto.py:21: TqdmWarning: IProgress not found. Please update jupyter and ipywidgets. See https://ipywidgets.readthedocs.io/en/stable/user_install.html\n",
      "  from .autonotebook import tqdm as notebook_tqdm\n"
     ]
    }
   ],
   "source": [
    "import numpy as np\n",
    "import d3rlpy\n",
    "from d3rlpy.datasets import get_d4rl\n",
    "import gym\n",
    "from d3rlpy.metrics.scorer import evaluate_on_environment\n",
    "import argparse\n",
    "import os\n",
    "from tqdm import tqdm\n",
    "\n",
    "\n",
    "os.environ['D4RL_SUPPRESS_IMPORT_ERROR'] = '1'\n"
   ]
  },
  {
   "cell_type": "code",
   "execution_count": 5,
   "metadata": {},
   "outputs": [
    {
     "name": "stderr",
     "output_type": "stream",
     "text": [
      "usage: ipykernel_launcher.py [-h] [--task TASK] [--algo ALGO]\n",
      "ipykernel_launcher.py: error: unrecognized arguments: --ip=127.0.0.1 --stdin=9008 --control=9006 --hb=9005 --Session.signature_scheme=\"hmac-sha256\" --Session.key=b\"9e8c588e-7ee3-41ea-b19d-c84d6b03e25b\" --shell=9007 --transport=\"tcp\" --iopub=9009 --f=/home/raunakk/.local/share/jupyter/runtime/kernel-v2-23007p03Mm7VoJj4E.json\n"
     ]
    },
    {
     "ename": "SystemExit",
     "evalue": "2",
     "output_type": "error",
     "traceback": [
      "An exception has occurred, use %tb to see the full traceback.\n",
      "\u001b[0;31mSystemExit\u001b[0m\u001b[0;31m:\u001b[0m 2\n"
     ]
    }
   ],
   "source": [
    "parser = argparse.ArgumentParser()\n",
    "parser.add_argument(\"--task\", type=str, help=\"task/game to be played\")\n",
    "parser.add_argument(\"--algo\", type=str, help=\"algorithm to be used for training\")\n",
    "args = parser.parse_args()\n",
    "\n",
    "task = args.task #['HalfCheetah-v4', 'Walker2d-v4', 'Ant-v4']\n",
    "algo = args.algo\n",
    "print(task)\n"
   ]
  },
  {
   "cell_type": "code",
   "execution_count": 3,
   "metadata": {},
   "outputs": [],
   "source": [
    "class MODEL():\n",
    "    def __init__(self, task, algo, gpu=True):\n",
    "        self.mean_results = []\n",
    "        self.task = task \n",
    "        self.algo = algo\n",
    "        self.f_params = {\"use_gpu\": gpu}\n",
    "        self.engine = None\n",
    "\n",
    "    def set_engine(self):\n",
    "        if self.algo == \"IQL\":\n",
    "            self.engine = d3rlpy.algos.IQL(**self.f_params)\n",
    "\n",
    "        elif self.algo == \"CQL\":\n",
    "            self.f_params[\"actor_learning_rate\"] = 3e-5\n",
    "            self.engine = d3rlpy.algos.CQL(**self.f_params)\n",
    "\n",
    "        elif self.algo == \"MOPO\":\n",
    "            self.engine = d3rlpy.algos.MOPO(**self.f_params)\n",
    "            \n",
    "        elif self.algo == \"COMBO\":\n",
    "            self.engine = d3rlpy.algos.COMBO(**self.f_params)\n",
    "\n",
    "    def train(self, n=100, n_steps=1000000, n_steps_per_epoch=10000, save_interval=100, save_metrics=False, verbose=False):\n",
    "        dataset, env = get_d4rl(self.task)\n",
    "        online_env = gym.make(self.task)\n",
    "        for i in range(n):\n",
    "            d3rlpy.seed(i)\n",
    "            env.seed(i)\n",
    "            online_env.seed(i)\n",
    "\n",
    "            self.set_engine()\n",
    "\n",
    "            self.engine.fit(dataset, n_steps=n_steps, n_steps_per_epoch=n_steps_per_epoch, save_interval=save_interval, save_metrics=save_metrics, verbose=verbose)\n",
    "            self.engine.save_model(\"./saved_models/iql_{}_{}_{}.pt\".format(algo, task, i))\n",
    "            for i in range(100):\n",
    "                scorer = evaluate_on_environment(online_env, n_trials=1)\n",
    "                self.mean_results.append(scorer(self.engine))\n",
    "        return self.mean_results"
   ]
  },
  {
   "cell_type": "code",
   "execution_count": 4,
   "metadata": {},
   "outputs": [
    {
     "name": "stderr",
     "output_type": "stream",
     "text": [
      "<frozen importlib._bootstrap>:283: DeprecationWarning: the load_module() method is deprecated and slated for removal in Python 3.12; use exec_module() instead\n",
      "pybullet build time: Jun 13 2023 11:48:14\n",
      "/home/raunakk/miniconda3/envs/msc_project/lib/python3.10/site-packages/gym/spaces/box.py:84: UserWarning: \u001b[33mWARN: Box bound precision lowered by casting to float32\u001b[0m\n",
      "  logger.warn(f\"Box bound precision lowered by casting to {self.dtype}\")\n",
      "load datafile: 100%|██████████| 21/21 [00:03<00:00,  5.33it/s]\n",
      "/home/raunakk/miniconda3/envs/msc_project/lib/python3.10/site-packages/gym/core.py:172: DeprecationWarning: \u001b[33mWARN: Function `env.seed(seed)` is marked as deprecated and will be removed in the future. Please use `env.reset(seed=seed) instead.\u001b[0m\n",
      "  deprecation(\n"
     ]
    },
    {
     "name": "stdout",
     "output_type": "stream",
     "text": [
      "\u001b[2m2023-06-24 18:20:14\u001b[0m [\u001b[32m\u001b[1mdebug    \u001b[0m] \u001b[1mRandomIterator is selected.\u001b[0m\n",
      "\u001b[2m2023-06-24 18:20:14\u001b[0m [\u001b[32m\u001b[1mdebug    \u001b[0m] \u001b[1mBuilding models...\u001b[0m\n",
      "\u001b[2m2023-06-24 18:20:57\u001b[0m [\u001b[32m\u001b[1mdebug    \u001b[0m] \u001b[1mModels have been built.\u001b[0m\n"
     ]
    },
    {
     "name": "stderr",
     "output_type": "stream",
     "text": [
      "Epoch 1/1: 100%|██████████| 1/1 [00:33<00:00, 33.63s/it, temp_loss=8.4, temp=1, alpha_loss=-27.5, alpha=1, critic_loss=71.5, actor_loss=-2.36]\n"
     ]
    }
   ],
   "source": [
    "task = \"halfcheetah-medium-v2\"\n",
    "algo = \"CQL\"\n",
    "model = MODEL(task, algo)\n",
    "mean_results = model.train(n=1, n_steps=1, n_steps_per_epoch=1)"
   ]
  },
  {
   "cell_type": "code",
   "execution_count": 5,
   "metadata": {},
   "outputs": [
    {
     "data": {
      "text/plain": [
       "[-1.3035401301234066,\n",
       " -1.0729566577045104,\n",
       " -3.9790731379671676,\n",
       " -1.5766215749340042,\n",
       " -0.8668231847213048,\n",
       " -1.703900797168258,\n",
       " -2.890828548706894,\n",
       " -0.3297628187275022,\n",
       " -1.9078329191056413,\n",
       " -2.077963004021463]"
      ]
     },
     "execution_count": 5,
     "metadata": {},
     "output_type": "execute_result"
    }
   ],
   "source": [
    "mean_results"
   ]
  },
  {
   "cell_type": "code",
   "execution_count": 1,
   "metadata": {},
   "outputs": [
    {
     "name": "stderr",
     "output_type": "stream",
     "text": [
      "/home/raunakk/miniconda3/envs/msc_project/lib/python3.10/site-packages/tqdm/auto.py:21: TqdmWarning: IProgress not found. Please update jupyter and ipywidgets. See https://ipywidgets.readthedocs.io/en/stable/user_install.html\n",
      "  from .autonotebook import tqdm as notebook_tqdm\n"
     ]
    }
   ],
   "source": [
    "import d3rlpy\n",
    "from d3rlpy.datasets import get_d4rl\n",
    "from d3rlpy.dynamics import ProbabilisticEnsembleDynamics\n",
    "from d3rlpy.metrics.scorer import dynamics_observation_prediction_error_scorer\n",
    "from d3rlpy.metrics.scorer import dynamics_reward_prediction_error_scorer\n",
    "from d3rlpy.metrics.scorer import dynamics_prediction_variance_scorer\n",
    "from sklearn.model_selection import train_test_split\n",
    "import gym\n",
    "from tqdm.auto import trange"
   ]
  },
  {
   "cell_type": "code",
   "execution_count": 2,
   "metadata": {},
   "outputs": [
    {
     "name": "stderr",
     "output_type": "stream",
     "text": [
      "<frozen importlib._bootstrap>:283: DeprecationWarning: the load_module() method is deprecated and slated for removal in Python 3.12; use exec_module() instead\n",
      "Warning: Flow failed to import. Set the environment variable D4RL_SUPPRESS_IMPORT_ERROR=1 to suppress this message.\n",
      "No module named 'flow'\n",
      "Warning: CARLA failed to import. Set the environment variable D4RL_SUPPRESS_IMPORT_ERROR=1 to suppress this message.\n",
      "No module named 'carla'\n",
      "pybullet build time: Jun 13 2023 11:48:14\n",
      "/home/raunakk/miniconda3/envs/msc_project/lib/python3.10/site-packages/gym/spaces/box.py:84: UserWarning: \u001b[33mWARN: Box bound precision lowered by casting to float32\u001b[0m\n",
      "  logger.warn(f\"Box bound precision lowered by casting to {self.dtype}\")\n",
      "load datafile: 100%|██████████| 21/21 [00:09<00:00,  2.24it/s]\n"
     ]
    }
   ],
   "source": [
    "dataset, env = get_d4rl('hopper-medium-v2')"
   ]
  },
  {
   "cell_type": "code",
   "execution_count": 9,
   "metadata": {},
   "outputs": [
    {
     "name": "stdout",
     "output_type": "stream",
     "text": [
      "\u001b[2m2023-07-09 04:11:55\u001b[0m [\u001b[32m\u001b[1mdebug    \u001b[0m] \u001b[1mRoundIterator is selected.\u001b[0m\n",
      "\u001b[2m2023-07-09 04:11:55\u001b[0m [\u001b[32m\u001b[1minfo     \u001b[0m] \u001b[1mDirectory is created at d3rlpy_logs/ProbabilisticEnsembleDynamics\u001b[0m\n",
      "\u001b[2m2023-07-09 04:11:55\u001b[0m [\u001b[32m\u001b[1mdebug    \u001b[0m] \u001b[1mBuilding models...\u001b[0m\n",
      "\u001b[2m2023-07-09 04:23:21\u001b[0m [\u001b[32m\u001b[1mdebug    \u001b[0m] \u001b[1mModels have been built.\u001b[0m\n",
      "\u001b[2m2023-07-09 04:23:26\u001b[0m [\u001b[32m\u001b[1minfo     \u001b[0m] \u001b[1mParameters are saved to d3rlpy_logs/ProbabilisticEnsembleDynamics/params.json\u001b[0m \u001b[36mparams\u001b[0m=\u001b[35m{'action_scaler': None, 'batch_size': 100, 'discrete_action': False, 'encoder_factory': {'type': 'default', 'params': {'activation': 'relu', 'use_batch_norm': False, 'dropout_rate': None}}, 'gamma': 1.0, 'generated_maxlen': 100000, 'learning_rate': 0.0001, 'n_ensembles': 5, 'n_frames': 1, 'n_steps': 1, 'optim_factory': {'optim_cls': 'Adam', 'betas': (0.9, 0.999), 'eps': 1e-08, 'weight_decay': 0.0001, 'amsgrad': False}, 'real_ratio': 1.0, 'reward_scaler': None, 'scaler': None, 'use_gpu': 0, 'variance_type': 'max', 'algorithm': 'ProbabilisticEnsembleDynamics', 'observation_shape': (11,), 'action_size': 3}\u001b[0m\n"
     ]
    },
    {
     "name": "stderr",
     "output_type": "stream",
     "text": [
      "Epoch 1/1: 100%|██████████| 7464/7464 [07:37<00:00, 16.32it/s, loss=-71.5] \n"
     ]
    },
    {
     "name": "stdout",
     "output_type": "stream",
     "text": [
      "\u001b[2m2023-07-09 04:31:04\u001b[0m [\u001b[32m\u001b[1minfo     \u001b[0m] \u001b[1mProbabilisticEnsembleDynamics: epoch=1 step=7464\u001b[0m \u001b[36mepoch\u001b[0m=\u001b[35m1\u001b[0m \u001b[36mmetrics\u001b[0m=\u001b[35m{'time_sample_batch': 0.01169888025183642, 'time_algorithm_update': 0.0480932249964114, 'loss': -71.47799279192904, 'time_step': 0.06030370510659417}\u001b[0m \u001b[36mstep\u001b[0m=\u001b[35m7464\u001b[0m\n",
      "\u001b[2m2023-07-09 04:31:05\u001b[0m [\u001b[32m\u001b[1minfo     \u001b[0m] \u001b[1mModel parameters are saved to d3rlpy_logs/ProbabilisticEnsembleDynamics/model_7464.pt\u001b[0m\n"
     ]
    },
    {
     "data": {
      "text/plain": [
       "[(1,\n",
       "  {'time_sample_batch': 0.01169888025183642,\n",
       "   'time_algorithm_update': 0.0480932249964114,\n",
       "   'loss': -71.47799279192904,\n",
       "   'time_step': 0.06030370510659417})]"
      ]
     },
     "execution_count": 9,
     "metadata": {},
     "output_type": "execute_result"
    }
   ],
   "source": [
    "dynamics = d3rlpy.dynamics.ProbabilisticEnsembleDynamics(learning_rate=1e-4, use_gpu=True)\n",
    "\n",
    "train_episodes, test_episodes = train_test_split(dataset)\n",
    "# same as algorithms\n",
    "dynamics.fit(train_episodes,\n",
    "             eval_episodes=test_episodes,\n",
    "             n_epochs=1,\n",
    "             save_interval=1,\n",
    "             with_timestamp=False\n",
    ")"
   ]
  },
  {
   "cell_type": "code",
   "execution_count": 11,
   "metadata": {},
   "outputs": [
    {
     "name": "stdout",
     "output_type": "stream",
     "text": [
      "\u001b[2m2023-07-09 04:34:04\u001b[0m [\u001b[33m\u001b[1mwarning  \u001b[0m] \u001b[1mUnused arguments are passed.  \u001b[0m \u001b[36malgorithm\u001b[0m=\u001b[35mProbabilisticEnsembleDynamics\u001b[0m \u001b[36mgamma\u001b[0m=\u001b[35m1.0\u001b[0m \u001b[36mgenerated_maxlen\u001b[0m=\u001b[35m100000\u001b[0m \u001b[36mn_steps\u001b[0m=\u001b[35m1\u001b[0m \u001b[36mreal_ratio\u001b[0m=\u001b[35m1.0\u001b[0m\n"
     ]
    }
   ],
   "source": [
    "# load trained dynamics model\n",
    "dynamics = ProbabilisticEnsembleDynamics.from_json('./d3rlpy_logs/ProbabilisticEnsembleDynamics/params.json')\n",
    "dynamics.load_model('./d3rlpy_logs/ProbabilisticEnsembleDynamics/model_7464.pt')\n",
    "\n",
    "# give mopo as generator argument.\n",
    "mopo = d3rlpy.algos.MOPO(dynamics=dynamics)"
   ]
  },
  {
   "cell_type": "code",
   "execution_count": null,
   "metadata": {},
   "outputs": [],
   "source": []
  }
 ],
 "metadata": {
  "kernelspec": {
   "display_name": "base",
   "language": "python",
   "name": "python3"
  },
  "language_info": {
   "codemirror_mode": {
    "name": "ipython",
    "version": 3
   },
   "file_extension": ".py",
   "mimetype": "text/x-python",
   "name": "python",
   "nbconvert_exporter": "python",
   "pygments_lexer": "ipython3",
   "version": "3.10.0"
  },
  "orig_nbformat": 4
 },
 "nbformat": 4,
 "nbformat_minor": 2
}
